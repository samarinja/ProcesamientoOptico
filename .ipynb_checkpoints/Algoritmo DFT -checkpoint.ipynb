{
 "cells": [
  {
   "cell_type": "code",
   "execution_count": 2,
   "id": "edf17f13-2b17-4ade-a9ca-deb4ce1958c1",
   "metadata": {},
   "outputs": [],
   "source": [
    "import mpmath as mp\n",
    "import numpy as np"
   ]
  },
  {
   "cell_type": "code",
   "execution_count": 3,
   "id": "122ba0fd-4d1c-45dd-aece-6591fb9d50b2",
   "metadata": {},
   "outputs": [
    {
     "name": "stdout",
     "output_type": "stream",
     "text": [
      "[[255 255 242 ... 248 237 237]\n",
      " [255 249 240 ... 252 240 240]\n",
      " [240 241 249 ... 242 252 252]\n",
      " ...\n",
      " [252 249 243 ... 249 240 241]\n",
      " [237 240 252 ... 242 255 255]\n",
      " [237 240 252 ... 242 255 255]]\n"
     ]
    }
   ],
   "source": [
    "from PIL import Image  #aqui se importa la imagen \n",
    "\n",
    "myImage = Image.open(\"pequena.jpeg\");\n",
    "\n",
    "myImage=np.array(myImage)\n",
    "\n",
    "myImage= myImage[:,:,0]\n",
    "print(myImage)"
   ]
  },
  {
   "cell_type": "code",
   "execution_count": 4,
   "id": "4c20bd80-6171-40f9-9056-adefca78eda3",
   "metadata": {},
   "outputs": [],
   "source": [
    "def tfsj2(mat): #este es que funciona\n",
    "  M,N= len(mat), len(mat[0]) #Captura el tamano de mat\n",
    "  F = [([0]*N) for i in range(M)] #Crea una matriz de zeros de igual tamano que mat\n",
    "  for fila in range(0,M): #Correr  por las filas de salida\n",
    "    for ele in range(0,N): #Correr por las columnas de salida\n",
    "      H= [([0]*N) for i in range(M)] \n",
    "      for m in range(0,M): #Correr por las filas de la entrada\n",
    "        for n in range(0,N): #Correr por las columnas de la entrada\n",
    "          H[m][n]= mat[m][n] * np.exp(-2* 1j * np.pi *  (fila * m / M + ele * n / N) ) #Multiplicar por kernel\n",
    "      F[fila][ele]=np.sum(H) #Sumar la salida de un pixel\n",
    "  Z = np.array(F, dtype=complex) #Convertir a array de numpy\n",
    "  return Z"
   ]
  },
  {
   "cell_type": "code",
   "execution_count": 5,
   "id": "b72f8261-20c2-434d-b359-2453eeaec605",
   "metadata": {},
   "outputs": [
    {
     "name": "stdout",
     "output_type": "stream",
     "text": [
      "[[ 4.22574000e+05    +0.j          9.47904797e+04+27397.38870294j\n",
      "  -7.80748720e+03-37703.91091087j ...  1.07752977e+04-25894.72271714j\n",
      "  -7.80748720e+03+37703.91091087j  9.47904797e+04-27397.38870294j]\n",
      " [ 5.03645228e+04-28521.67256915j -2.47166433e+04  +663.73359577j\n",
      "  -1.91285979e+04+43843.16118262j ... -5.25829565e+03+13318.47039331j\n",
      "   2.44325767e+04-12609.65745285j -2.66762465e+04 -8958.35894873j]\n",
      " [ 4.79201243e+04-26508.48405125j -2.93687207e+04-25064.15842545j\n",
      "  -4.96487406e+03 -2564.69374626j ... -1.10603145e+02 -9071.41870371j\n",
      "   1.38814464e+04+20764.9559981j  -3.00687710e+04+30427.98021417j]\n",
      " ...\n",
      " [ 3.68764441e+04-27200.17664605j -3.53029469e+03+11288.62866427j\n",
      "  -1.77215190e+04 +8214.25372874j ... -6.62575421e+03 +9782.39132289j\n",
      "   2.16619620e+03 +9922.31068708j -2.30455888e+03 -2252.61889235j]\n",
      " [ 4.79201243e+04+26508.48405125j -3.00687710e+04-30427.98021417j\n",
      "   1.38814464e+04-20764.9559981j  ...  9.07145128e+03 -7693.90917258j\n",
      "  -4.96487406e+03 +2564.69374626j -2.93687207e+04+25064.15842545j]\n",
      " [ 5.03645228e+04+28521.67256915j -2.66762465e+04 +8958.35894872j\n",
      "   2.44325767e+04+12609.65745285j ... -9.47580867e+03+12837.10344843j\n",
      "  -1.91285979e+04-43843.16118262j -2.47166433e+04  -663.73359577j]]\n"
     ]
    }
   ],
   "source": [
    "print(tfsj2(myImage))"
   ]
  },
  {
   "cell_type": "code",
   "execution_count": 6,
   "id": "7bbb1ff7-4680-42ef-bdac-897f19e955b2",
   "metadata": {},
   "outputs": [
    {
     "name": "stdout",
     "output_type": "stream",
     "text": [
      "[[ 4.22574000e+05    +0.j          9.47904797e+04+27397.38870294j\n",
      "  -7.80748720e+03-37703.91091087j ...  1.07752977e+04-25894.72271714j\n",
      "  -7.80748720e+03+37703.91091087j  9.47904797e+04-27397.38870294j]\n",
      " [ 5.03645228e+04-28521.67256915j -2.47166433e+04  +663.73359577j\n",
      "  -1.91285979e+04+43843.16118262j ... -5.25829565e+03+13318.47039331j\n",
      "   2.44325767e+04-12609.65745285j -2.66762465e+04 -8958.35894872j]\n",
      " [ 4.79201243e+04-26508.48405125j -2.93687207e+04-25064.15842545j\n",
      "  -4.96487406e+03 -2564.69374626j ... -1.10603145e+02 -9071.41870371j\n",
      "   1.38814464e+04+20764.9559981j  -3.00687710e+04+30427.98021417j]\n",
      " ...\n",
      " [ 3.68764441e+04-27200.17664605j -3.53029469e+03+11288.62866427j\n",
      "  -1.77215190e+04 +8214.25372874j ... -6.62575421e+03 +9782.39132289j\n",
      "   2.16619620e+03 +9922.31068708j -2.30455888e+03 -2252.61889235j]\n",
      " [ 4.79201243e+04+26508.48405125j -3.00687710e+04-30427.98021417j\n",
      "   1.38814464e+04-20764.9559981j  ...  9.07145128e+03 -7693.90917258j\n",
      "  -4.96487406e+03 +2564.69374626j -2.93687207e+04+25064.15842545j]\n",
      " [ 5.03645228e+04+28521.67256915j -2.66762465e+04 +8958.35894872j\n",
      "   2.44325767e+04+12609.65745285j ... -9.47580867e+03+12837.10344843j\n",
      "  -1.91285979e+04-43843.16118262j -2.47166433e+04  -663.73359577j]]\n"
     ]
    }
   ],
   "source": [
    "print(np.fft.fft2(myImage)) #aqui se comprueba que el algortimo funciona"
   ]
  },
  {
   "cell_type": "code",
   "execution_count": null,
   "id": "9c5d0f9b-771b-4318-ae66-8e1b4bdaa70e",
   "metadata": {},
   "outputs": [],
   "source": []
  }
 ],
 "metadata": {
  "kernelspec": {
   "display_name": "Python 3",
   "language": "python",
   "name": "python3"
  },
  "language_info": {
   "codemirror_mode": {
    "name": "ipython",
    "version": 3
   },
   "file_extension": ".py",
   "mimetype": "text/x-python",
   "name": "python",
   "nbconvert_exporter": "python",
   "pygments_lexer": "ipython3",
   "version": "3.8.8"
  }
 },
 "nbformat": 4,
 "nbformat_minor": 5
}
